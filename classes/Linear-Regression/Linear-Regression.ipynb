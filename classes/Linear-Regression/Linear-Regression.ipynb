{
 "cells": [
  {
   "cell_type": "markdown",
   "metadata": {},
   "source": [
    "\n",
    "# Linear Regression\n",
    "\n",
    "> Linear modeling by the most elementary model : simple linear regression where a variable X is explained, modelled by an affine function of another variable y. Mostly used to predict **continuous value outputs**.\n",
    "\n",
    "\n",
    "#### First of all, what is linear ?\n",
    "\n",
    "The term “linearity” in algebra refers to a linear relationship between two or more variables. If we draw this relationship in a two-dimensional space (between two variables), we get a straight line.\n",
    "\n",
    "A linear regression model in two dimensions is a straight line; in three dimensions it is a plane, and in more than three dimensions, a hyperplane.\n",
    "\n",
    "#### In this example, we will use Scikit-Learn which is a Python machine learning library.\n",
    "\n"
   ]
  },
  {
   "cell_type": "markdown",
   "metadata": {},
   "source": [
    "#### Goal : \n",
    "\n",
    "* Y the real random variable to be explained (endogenous, dependent or response variable)\n",
    "* X the explanatory variable or fixed effect (exogenous). \n",
    "* We assume that, on average, E(Y), is an affine function of X. Writing the model implicitly assumes a prior notion of causality in the sense that Y depends on X because the model is not symmetrical.\n",
    "\n",
    "We want to predict a dependent variable value (y) based on a given independent variable (x). So, this regression technique finds out a linear relationship between x (input) and y(output). By ploting variables, linear regression gives us a straight line that best fits the data points."
   ]
  },
  {
   "cell_type": "markdown",
   "metadata": {},
   "source": [
    "#### Basic linear equation : \n",
    "Y = mx + b \n",
    "* b : intercept\n",
    "* m : slope"
   ]
  },
  {
   "cell_type": "markdown",
   "metadata": {},
   "source": [
    "#### So, what does the linear regression algorithm ?\n",
    "It gives us the most optimal value for the intercept and the slope. Y and X can't be changed since they are fixed data. The only values that we can control are **b and m**.\n",
    "The algorithm check for the line with the least error, that fits the most **data points**."
   ]
  },
  {
   "cell_type": "markdown",
   "metadata": {},
   "source": [
    "## Simple linear regression"
   ]
  },
  {
   "cell_type": "code",
   "execution_count": 75,
   "metadata": {},
   "outputs": [],
   "source": [
    "## Data from : https://www.kaggle.com/dronio/SolarEnergy?select=SolarPrediction.csv"
   ]
  },
  {
   "cell_type": "code",
   "execution_count": 76,
   "metadata": {},
   "outputs": [],
   "source": [
    "import pandas as pd  \n",
    "import numpy as np  \n",
    "import matplotlib.pyplot as plt  \n",
    "import seaborn as seabornInstance \n",
    "from sklearn.model_selection import train_test_split \n",
    "from sklearn.linear_model import LinearRegression\n",
    "from sklearn import metrics\n"
   ]
  },
  {
   "cell_type": "code",
   "execution_count": 77,
   "metadata": {},
   "outputs": [],
   "source": [
    "dataset = pd.read_csv('/Users/Laurine/Documents/Python Scripts/IMAC2/Untitled Folder/SolarPrediction.csv')"
   ]
  },
  {
   "cell_type": "code",
   "execution_count": 78,
   "metadata": {},
   "outputs": [
    {
     "data": {
      "text/html": [
       "<div>\n",
       "<style scoped>\n",
       "    .dataframe tbody tr th:only-of-type {\n",
       "        vertical-align: middle;\n",
       "    }\n",
       "\n",
       "    .dataframe tbody tr th {\n",
       "        vertical-align: top;\n",
       "    }\n",
       "\n",
       "    .dataframe thead th {\n",
       "        text-align: right;\n",
       "    }\n",
       "</style>\n",
       "<table border=\"1\" class=\"dataframe\">\n",
       "  <thead>\n",
       "    <tr style=\"text-align: right;\">\n",
       "      <th></th>\n",
       "      <th>UNIXTime</th>\n",
       "      <th>Radiation</th>\n",
       "      <th>Temperature</th>\n",
       "      <th>Pressure</th>\n",
       "      <th>Humidity</th>\n",
       "      <th>WindDirection(Degrees)</th>\n",
       "      <th>Speed</th>\n",
       "    </tr>\n",
       "  </thead>\n",
       "  <tbody>\n",
       "    <tr>\n",
       "      <th>count</th>\n",
       "      <td>3.268600e+04</td>\n",
       "      <td>32686.000000</td>\n",
       "      <td>32686.000000</td>\n",
       "      <td>32686.000000</td>\n",
       "      <td>32686.000000</td>\n",
       "      <td>32686.000000</td>\n",
       "      <td>32686.000000</td>\n",
       "    </tr>\n",
       "    <tr>\n",
       "      <th>mean</th>\n",
       "      <td>1.478047e+09</td>\n",
       "      <td>207.124697</td>\n",
       "      <td>51.103255</td>\n",
       "      <td>30.422879</td>\n",
       "      <td>75.016307</td>\n",
       "      <td>143.489821</td>\n",
       "      <td>6.243869</td>\n",
       "    </tr>\n",
       "    <tr>\n",
       "      <th>std</th>\n",
       "      <td>3.005037e+06</td>\n",
       "      <td>315.916387</td>\n",
       "      <td>6.201157</td>\n",
       "      <td>0.054673</td>\n",
       "      <td>25.990219</td>\n",
       "      <td>83.167500</td>\n",
       "      <td>3.490474</td>\n",
       "    </tr>\n",
       "    <tr>\n",
       "      <th>min</th>\n",
       "      <td>1.472724e+09</td>\n",
       "      <td>1.110000</td>\n",
       "      <td>34.000000</td>\n",
       "      <td>30.190000</td>\n",
       "      <td>8.000000</td>\n",
       "      <td>0.090000</td>\n",
       "      <td>0.000000</td>\n",
       "    </tr>\n",
       "    <tr>\n",
       "      <th>25%</th>\n",
       "      <td>1.475546e+09</td>\n",
       "      <td>1.230000</td>\n",
       "      <td>46.000000</td>\n",
       "      <td>30.400000</td>\n",
       "      <td>56.000000</td>\n",
       "      <td>82.227500</td>\n",
       "      <td>3.370000</td>\n",
       "    </tr>\n",
       "    <tr>\n",
       "      <th>50%</th>\n",
       "      <td>1.478026e+09</td>\n",
       "      <td>2.660000</td>\n",
       "      <td>50.000000</td>\n",
       "      <td>30.430000</td>\n",
       "      <td>85.000000</td>\n",
       "      <td>147.700000</td>\n",
       "      <td>5.620000</td>\n",
       "    </tr>\n",
       "    <tr>\n",
       "      <th>75%</th>\n",
       "      <td>1.480480e+09</td>\n",
       "      <td>354.235000</td>\n",
       "      <td>55.000000</td>\n",
       "      <td>30.460000</td>\n",
       "      <td>97.000000</td>\n",
       "      <td>179.310000</td>\n",
       "      <td>7.870000</td>\n",
       "    </tr>\n",
       "    <tr>\n",
       "      <th>max</th>\n",
       "      <td>1.483265e+09</td>\n",
       "      <td>1601.260000</td>\n",
       "      <td>71.000000</td>\n",
       "      <td>30.560000</td>\n",
       "      <td>103.000000</td>\n",
       "      <td>359.950000</td>\n",
       "      <td>40.500000</td>\n",
       "    </tr>\n",
       "  </tbody>\n",
       "</table>\n",
       "</div>"
      ],
      "text/plain": [
       "           UNIXTime     Radiation   Temperature      Pressure      Humidity  \\\n",
       "count  3.268600e+04  32686.000000  32686.000000  32686.000000  32686.000000   \n",
       "mean   1.478047e+09    207.124697     51.103255     30.422879     75.016307   \n",
       "std    3.005037e+06    315.916387      6.201157      0.054673     25.990219   \n",
       "min    1.472724e+09      1.110000     34.000000     30.190000      8.000000   \n",
       "25%    1.475546e+09      1.230000     46.000000     30.400000     56.000000   \n",
       "50%    1.478026e+09      2.660000     50.000000     30.430000     85.000000   \n",
       "75%    1.480480e+09    354.235000     55.000000     30.460000     97.000000   \n",
       "max    1.483265e+09   1601.260000     71.000000     30.560000    103.000000   \n",
       "\n",
       "       WindDirection(Degrees)         Speed  \n",
       "count            32686.000000  32686.000000  \n",
       "mean               143.489821      6.243869  \n",
       "std                 83.167500      3.490474  \n",
       "min                  0.090000      0.000000  \n",
       "25%                 82.227500      3.370000  \n",
       "50%                147.700000      5.620000  \n",
       "75%                179.310000      7.870000  \n",
       "max                359.950000     40.500000  "
      ]
     },
     "execution_count": 78,
     "metadata": {},
     "output_type": "execute_result"
    }
   ],
   "source": [
    "## See data\n",
    "dataset.describe()\n"
   ]
  },
  {
   "cell_type": "code",
   "execution_count": 79,
   "metadata": {},
   "outputs": [
    {
     "data": {
      "image/png": "[encoded data removed]",
      "text/plain": [
       "<Figure size 432x288 with 1 Axes>"
      ]
     },
     "metadata": {
      "needs_background": "light"
     },
     "output_type": "display_data"
    }
   ],
   "source": [
    "##  predict the maximum temperature taking input feature as the radiation.\n",
    "\n",
    "dataset.plot(x='Temperature', y='Radiation', style='o')  \n",
    "plt.title('Temperature vs Radiation')  \n",
    "plt.xlabel('Temperature')  \n",
    "plt.ylabel('Radiation')  \n",
    "plt.show()"
   ]
  },
  {
   "cell_type": "code",
   "execution_count": 80,
   "metadata": {},
   "outputs": [
    {
     "name": "stderr",
     "output_type": "stream",
     "text": [
      "C:\\Users\\Laurine\\Anaconda3\\lib\\site-packages\\scipy\\stats\\stats.py:1713: FutureWarning: Using a non-tuple sequence for multidimensional indexing is deprecated; use `arr[tuple(seq)]` instead of `arr[seq]`. In the future this will be interpreted as an array index, `arr[np.array(seq)]`, which will result either in an error or a different result.\n",
      "  return np.add.reduce(sorted[indexer] * weights, axis=axis) / sumval\n"
     ]
    },
    {
     "data": {
      "text/plain": [
       "<matplotlib.axes._subplots.AxesSubplot at 0x11152bb9358>"
      ]
     },
     "execution_count": 80,
     "metadata": {},
     "output_type": "execute_result"
    },
    {
     "data": {
      "image/png": "[encoded data removed]",
      "text/plain": [
       "<Figure size 720x720 with 1 Axes>"
      ]
     },
     "metadata": {
      "needs_background": "light"
     },
     "output_type": "display_data"
    }
   ],
   "source": [
    "## We need to check the average temperature : we see that it is around 45 - 50\n",
    "\n",
    "plt.figure(figsize=(10,10))\n",
    "plt.tight_layout()\n",
    "seabornInstance.distplot(dataset['Temperature'])"
   ]
  },
  {
   "cell_type": "code",
   "execution_count": 81,
   "metadata": {},
   "outputs": [],
   "source": [
    "## We need to divide the data into attributes (independant variables) and labels (dependant variables). Labels are values we want to predict\n",
    "## Here, our attribute is \"radiation\" and our label is \"temperature\"\n",
    "\n",
    "X = dataset['Radiation'].values.reshape(-1,1)\n",
    "y = dataset['Temperature'].values.reshape(-1,1)"
   ]
  },
  {
   "cell_type": "code",
   "execution_count": 82,
   "metadata": {},
   "outputs": [],
   "source": [
    "## We need to split the data between the training and the test set. Let say we give 70% of the data to the training set and 30 % to the test set\n",
    "\n",
    "X_train, X_test, y_train, y_test = train_test_split(X, y, test_size=0.3, random_state=0)"
   ]
  },
  {
   "cell_type": "code",
   "execution_count": 83,
   "metadata": {},
   "outputs": [
    {
     "data": {
      "text/plain": [
       "LinearRegression(copy_X=True, fit_intercept=True, n_jobs=None,\n",
       "         normalize=False)"
      ]
     },
     "execution_count": 83,
     "metadata": {},
     "output_type": "execute_result"
    }
   ],
   "source": [
    "## It is time to traing our algorithm ! \n",
    "\n",
    "regressor = LinearRegression()  \n",
    "regressor.fit(X_train, y_train) #training the algorithm"
   ]
  },
  {
   "cell_type": "code",
   "execution_count": 84,
   "metadata": {},
   "outputs": [
    {
     "name": "stdout",
     "output_type": "stream",
     "text": [
      "[48.12878042]\n",
      "[[0.01442639]]\n"
     ]
    }
   ],
   "source": [
    "## We found the best value for the intercept (b) and the slope (m)\n",
    "\n",
    "#To retrieve the intercept:\n",
    "print(regressor.intercept_)\n",
    "#For retrieving the slope:\n",
    "print(regressor.coef_)"
   ]
  },
  {
   "cell_type": "code",
   "execution_count": 85,
   "metadata": {},
   "outputs": [
    {
     "data": {
      "text/html": [
       "<div>\n",
       "<style scoped>\n",
       "    .dataframe tbody tr th:only-of-type {\n",
       "        vertical-align: middle;\n",
       "    }\n",
       "\n",
       "    .dataframe tbody tr th {\n",
       "        vertical-align: top;\n",
       "    }\n",
       "\n",
       "    .dataframe thead th {\n",
       "        text-align: right;\n",
       "    }\n",
       "</style>\n",
       "<table border=\"1\" class=\"dataframe\">\n",
       "  <thead>\n",
       "    <tr style=\"text-align: right;\">\n",
       "      <th></th>\n",
       "      <th>Actual</th>\n",
       "      <th>Predicted</th>\n",
       "    </tr>\n",
       "  </thead>\n",
       "  <tbody>\n",
       "    <tr>\n",
       "      <th>0</th>\n",
       "      <td>61</td>\n",
       "      <td>55.021276</td>\n",
       "    </tr>\n",
       "    <tr>\n",
       "      <th>1</th>\n",
       "      <td>48</td>\n",
       "      <td>53.897460</td>\n",
       "    </tr>\n",
       "    <tr>\n",
       "      <th>2</th>\n",
       "      <td>60</td>\n",
       "      <td>61.260833</td>\n",
       "    </tr>\n",
       "    <tr>\n",
       "      <th>3</th>\n",
       "      <td>44</td>\n",
       "      <td>48.146381</td>\n",
       "    </tr>\n",
       "    <tr>\n",
       "      <th>4</th>\n",
       "      <td>49</td>\n",
       "      <td>48.147102</td>\n",
       "    </tr>\n",
       "    <tr>\n",
       "      <th>5</th>\n",
       "      <td>50</td>\n",
       "      <td>48.147102</td>\n",
       "    </tr>\n",
       "    <tr>\n",
       "      <th>6</th>\n",
       "      <td>54</td>\n",
       "      <td>48.310120</td>\n",
       "    </tr>\n",
       "    <tr>\n",
       "      <th>7</th>\n",
       "      <td>45</td>\n",
       "      <td>48.146092</td>\n",
       "    </tr>\n",
       "    <tr>\n",
       "      <th>8</th>\n",
       "      <td>53</td>\n",
       "      <td>48.176965</td>\n",
       "    </tr>\n",
       "    <tr>\n",
       "      <th>9</th>\n",
       "      <td>46</td>\n",
       "      <td>48.146669</td>\n",
       "    </tr>\n",
       "    <tr>\n",
       "      <th>10</th>\n",
       "      <td>56</td>\n",
       "      <td>52.958880</td>\n",
       "    </tr>\n",
       "    <tr>\n",
       "      <th>11</th>\n",
       "      <td>51</td>\n",
       "      <td>59.655898</td>\n",
       "    </tr>\n",
       "    <tr>\n",
       "      <th>12</th>\n",
       "      <td>37</td>\n",
       "      <td>48.146092</td>\n",
       "    </tr>\n",
       "    <tr>\n",
       "      <th>13</th>\n",
       "      <td>59</td>\n",
       "      <td>60.529271</td>\n",
       "    </tr>\n",
       "    <tr>\n",
       "      <th>14</th>\n",
       "      <td>59</td>\n",
       "      <td>60.826743</td>\n",
       "    </tr>\n",
       "    <tr>\n",
       "      <th>15</th>\n",
       "      <td>52</td>\n",
       "      <td>51.848048</td>\n",
       "    </tr>\n",
       "    <tr>\n",
       "      <th>16</th>\n",
       "      <td>53</td>\n",
       "      <td>48.146525</td>\n",
       "    </tr>\n",
       "    <tr>\n",
       "      <th>17</th>\n",
       "      <td>56</td>\n",
       "      <td>53.461206</td>\n",
       "    </tr>\n",
       "    <tr>\n",
       "      <th>18</th>\n",
       "      <td>50</td>\n",
       "      <td>48.146381</td>\n",
       "    </tr>\n",
       "    <tr>\n",
       "      <th>19</th>\n",
       "      <td>54</td>\n",
       "      <td>55.260610</td>\n",
       "    </tr>\n",
       "    <tr>\n",
       "      <th>20</th>\n",
       "      <td>43</td>\n",
       "      <td>53.087274</td>\n",
       "    </tr>\n",
       "    <tr>\n",
       "      <th>21</th>\n",
       "      <td>48</td>\n",
       "      <td>48.146236</td>\n",
       "    </tr>\n",
       "    <tr>\n",
       "      <th>22</th>\n",
       "      <td>56</td>\n",
       "      <td>55.524757</td>\n",
       "    </tr>\n",
       "    <tr>\n",
       "      <th>23</th>\n",
       "      <td>51</td>\n",
       "      <td>48.146669</td>\n",
       "    </tr>\n",
       "    <tr>\n",
       "      <th>24</th>\n",
       "      <td>47</td>\n",
       "      <td>48.146669</td>\n",
       "    </tr>\n",
       "    <tr>\n",
       "      <th>25</th>\n",
       "      <td>53</td>\n",
       "      <td>48.156335</td>\n",
       "    </tr>\n",
       "    <tr>\n",
       "      <th>26</th>\n",
       "      <td>50</td>\n",
       "      <td>48.146958</td>\n",
       "    </tr>\n",
       "    <tr>\n",
       "      <th>27</th>\n",
       "      <td>49</td>\n",
       "      <td>48.146525</td>\n",
       "    </tr>\n",
       "    <tr>\n",
       "      <th>28</th>\n",
       "      <td>57</td>\n",
       "      <td>60.115522</td>\n",
       "    </tr>\n",
       "    <tr>\n",
       "      <th>29</th>\n",
       "      <td>56</td>\n",
       "      <td>48.885589</td>\n",
       "    </tr>\n",
       "    <tr>\n",
       "      <th>...</th>\n",
       "      <td>...</td>\n",
       "      <td>...</td>\n",
       "    </tr>\n",
       "    <tr>\n",
       "      <th>9776</th>\n",
       "      <td>56</td>\n",
       "      <td>60.046564</td>\n",
       "    </tr>\n",
       "    <tr>\n",
       "      <th>9777</th>\n",
       "      <td>56</td>\n",
       "      <td>55.474842</td>\n",
       "    </tr>\n",
       "    <tr>\n",
       "      <th>9778</th>\n",
       "      <td>45</td>\n",
       "      <td>49.928617</td>\n",
       "    </tr>\n",
       "    <tr>\n",
       "      <th>9779</th>\n",
       "      <td>42</td>\n",
       "      <td>48.309110</td>\n",
       "    </tr>\n",
       "    <tr>\n",
       "      <th>9780</th>\n",
       "      <td>45</td>\n",
       "      <td>48.920068</td>\n",
       "    </tr>\n",
       "    <tr>\n",
       "      <th>9781</th>\n",
       "      <td>45</td>\n",
       "      <td>48.509060</td>\n",
       "    </tr>\n",
       "    <tr>\n",
       "      <th>9782</th>\n",
       "      <td>54</td>\n",
       "      <td>49.357764</td>\n",
       "    </tr>\n",
       "    <tr>\n",
       "      <th>9783</th>\n",
       "      <td>59</td>\n",
       "      <td>58.982185</td>\n",
       "    </tr>\n",
       "    <tr>\n",
       "      <th>9784</th>\n",
       "      <td>60</td>\n",
       "      <td>57.251596</td>\n",
       "    </tr>\n",
       "    <tr>\n",
       "      <th>9785</th>\n",
       "      <td>44</td>\n",
       "      <td>48.146525</td>\n",
       "    </tr>\n",
       "    <tr>\n",
       "      <th>9786</th>\n",
       "      <td>58</td>\n",
       "      <td>53.223892</td>\n",
       "    </tr>\n",
       "    <tr>\n",
       "      <th>9787</th>\n",
       "      <td>55</td>\n",
       "      <td>53.317231</td>\n",
       "    </tr>\n",
       "    <tr>\n",
       "      <th>9788</th>\n",
       "      <td>48</td>\n",
       "      <td>48.544116</td>\n",
       "    </tr>\n",
       "    <tr>\n",
       "      <th>9789</th>\n",
       "      <td>58</td>\n",
       "      <td>54.472208</td>\n",
       "    </tr>\n",
       "    <tr>\n",
       "      <th>9790</th>\n",
       "      <td>38</td>\n",
       "      <td>48.147679</td>\n",
       "    </tr>\n",
       "    <tr>\n",
       "      <th>9791</th>\n",
       "      <td>47</td>\n",
       "      <td>48.152295</td>\n",
       "    </tr>\n",
       "    <tr>\n",
       "      <th>9792</th>\n",
       "      <td>50</td>\n",
       "      <td>48.146813</td>\n",
       "    </tr>\n",
       "    <tr>\n",
       "      <th>9793</th>\n",
       "      <td>48</td>\n",
       "      <td>48.146813</td>\n",
       "    </tr>\n",
       "    <tr>\n",
       "      <th>9794</th>\n",
       "      <td>57</td>\n",
       "      <td>62.238798</td>\n",
       "    </tr>\n",
       "    <tr>\n",
       "      <th>9795</th>\n",
       "      <td>44</td>\n",
       "      <td>48.145804</td>\n",
       "    </tr>\n",
       "    <tr>\n",
       "      <th>9796</th>\n",
       "      <td>55</td>\n",
       "      <td>48.160518</td>\n",
       "    </tr>\n",
       "    <tr>\n",
       "      <th>9797</th>\n",
       "      <td>68</td>\n",
       "      <td>60.464208</td>\n",
       "    </tr>\n",
       "    <tr>\n",
       "      <th>9798</th>\n",
       "      <td>47</td>\n",
       "      <td>48.146525</td>\n",
       "    </tr>\n",
       "    <tr>\n",
       "      <th>9799</th>\n",
       "      <td>48</td>\n",
       "      <td>56.829335</td>\n",
       "    </tr>\n",
       "    <tr>\n",
       "      <th>9800</th>\n",
       "      <td>53</td>\n",
       "      <td>48.817929</td>\n",
       "    </tr>\n",
       "    <tr>\n",
       "      <th>9801</th>\n",
       "      <td>63</td>\n",
       "      <td>60.087679</td>\n",
       "    </tr>\n",
       "    <tr>\n",
       "      <th>9802</th>\n",
       "      <td>47</td>\n",
       "      <td>48.146958</td>\n",
       "    </tr>\n",
       "    <tr>\n",
       "      <th>9803</th>\n",
       "      <td>51</td>\n",
       "      <td>48.146958</td>\n",
       "    </tr>\n",
       "    <tr>\n",
       "      <th>9804</th>\n",
       "      <td>47</td>\n",
       "      <td>48.146381</td>\n",
       "    </tr>\n",
       "    <tr>\n",
       "      <th>9805</th>\n",
       "      <td>48</td>\n",
       "      <td>48.146236</td>\n",
       "    </tr>\n",
       "  </tbody>\n",
       "</table>\n",
       "<p>9806 rows × 2 columns</p>\n",
       "</div>"
      ],
      "text/plain": [
       "      Actual  Predicted\n",
       "0         61  55.021276\n",
       "1         48  53.897460\n",
       "2         60  61.260833\n",
       "3         44  48.146381\n",
       "4         49  48.147102\n",
       "5         50  48.147102\n",
       "6         54  48.310120\n",
       "7         45  48.146092\n",
       "8         53  48.176965\n",
       "9         46  48.146669\n",
       "10        56  52.958880\n",
       "11        51  59.655898\n",
       "12        37  48.146092\n",
       "13        59  60.529271\n",
       "14        59  60.826743\n",
       "15        52  51.848048\n",
       "16        53  48.146525\n",
       "17        56  53.461206\n",
       "18        50  48.146381\n",
       "19        54  55.260610\n",
       "20        43  53.087274\n",
       "21        48  48.146236\n",
       "22        56  55.524757\n",
       "23        51  48.146669\n",
       "24        47  48.146669\n",
       "25        53  48.156335\n",
       "26        50  48.146958\n",
       "27        49  48.146525\n",
       "28        57  60.115522\n",
       "29        56  48.885589\n",
       "...      ...        ...\n",
       "9776      56  60.046564\n",
       "9777      56  55.474842\n",
       "9778      45  49.928617\n",
       "9779      42  48.309110\n",
       "9780      45  48.920068\n",
       "9781      45  48.509060\n",
       "9782      54  49.357764\n",
       "9783      59  58.982185\n",
       "9784      60  57.251596\n",
       "9785      44  48.146525\n",
       "9786      58  53.223892\n",
       "9787      55  53.317231\n",
       "9788      48  48.544116\n",
       "9789      58  54.472208\n",
       "9790      38  48.147679\n",
       "9791      47  48.152295\n",
       "9792      50  48.146813\n",
       "9793      48  48.146813\n",
       "9794      57  62.238798\n",
       "9795      44  48.145804\n",
       "9796      55  48.160518\n",
       "9797      68  60.464208\n",
       "9798      47  48.146525\n",
       "9799      48  56.829335\n",
       "9800      53  48.817929\n",
       "9801      63  60.087679\n",
       "9802      47  48.146958\n",
       "9803      51  48.146958\n",
       "9804      47  48.146381\n",
       "9805      48  48.146236\n",
       "\n",
       "[9806 rows x 2 columns]"
      ]
     },
     "execution_count": 85,
     "metadata": {},
     "output_type": "execute_result"
    }
   ],
   "source": [
    "## Time to make prediction ! (we need to use the test dataset and compare it to actual data)\n",
    "\n",
    "y_pred = regressor.predict(X_test)\n",
    "df = pd.DataFrame({'Actual': y_test.flatten(), 'Predicted': y_pred.flatten()})\n",
    "df"
   ]
  },
  {
   "cell_type": "code",
   "execution_count": 86,
   "metadata": {},
   "outputs": [
    {
     "data": {
      "image/png": "[encoded data removed]",
      "text/plain": [
       "<Figure size 1440x1440 with 1 Axes>"
      ]
     },
     "metadata": {
      "needs_background": "light"
     },
     "output_type": "display_data"
    }
   ],
   "source": [
    "df1 = df.head(30)\n",
    "df1.plot(kind='bar',figsize=(20,20))\n",
    "plt.grid(which='major', linestyle='-', linewidth='0.5', color='orange')\n",
    "plt.grid(which='minor', linestyle=':', linewidth='0.5', color='orange')\n",
    "plt.show()"
   ]
  },
  {
   "cell_type": "markdown",
   "metadata": {},
   "source": [
    "Predicted percentage are quite close to actual one, which means that our algorithm is well trained"
   ]
  },
  {
   "cell_type": "code",
   "execution_count": 87,
   "metadata": {},
   "outputs": [
    {
     "data": {
      "image/png": "[encoded data removed]",
      "text/plain": [
       "<Figure size 432x288 with 1 Axes>"
      ]
     },
     "metadata": {
      "needs_background": "light"
     },
     "output_type": "display_data"
    }
   ],
   "source": [
    "## Well, now it's time to plot our straight line ! \n",
    "\n",
    "plt.scatter(X_test, y_test,  color='darkblue')\n",
    "plt.plot(X_test, y_pred, color='red', linewidth=2)\n",
    "plt.show()"
   ]
  },
  {
   "cell_type": "code",
   "execution_count": 88,
   "metadata": {},
   "outputs": [
    {
     "name": "stdout",
     "output_type": "stream",
     "text": [
      "Mean Absolute Error: 3.3428145712086974\n",
      "Mean Squared Error: 17.923509301005502\n",
      "Root Mean Squared Error: 4.2336165746327925\n"
     ]
    }
   ],
   "source": [
    "## The final step is to evaluate the performance of the algorithm. \n",
    "\n",
    "print('Mean Absolute Error:', metrics.mean_absolute_error(y_test, y_pred))  \n",
    "print('Mean Squared Error:', metrics.mean_squared_error(y_test, y_pred))  \n",
    "print('Root Mean Squared Error:', np.sqrt(metrics.mean_squared_error(y_test, y_pred)))"
   ]
  },
  {
   "cell_type": "code",
   "execution_count": 89,
   "metadata": {},
   "outputs": [],
   "source": [
    "## You can see that the value of root mean squared error is 4.23, which is more than 10% of the mean value of the percentages of all the temperature. \n",
    "## This means that our algorithm was not accurate, but can still be used for a first approach."
   ]
  },
  {
   "cell_type": "markdown",
   "metadata": {},
   "source": [
    "## So what if simple linear regression doesn't work well ?\n",
    "\n",
    "The best way to handle that is to choose the good amount of data and to train it well. Machine learning is all about that : training your model and realize that the training has not been good, that the predictions are not very accurate and start over again. Good luck !"
   ]
  }
 ],
 "metadata": {
  "kernelspec": {
   "display_name": "Python 3",
   "language": "python",
   "name": "python3"
  },
  "language_info": {
   "codemirror_mode": {
    "name": "ipython",
    "version": 3
   },
   "file_extension": ".py",
   "mimetype": "text/x-python",
   "name": "python",
   "nbconvert_exporter": "python",
   "pygments_lexer": "ipython3",
   "version": "3.7.1"
  }
 },
 "nbformat": 4,
 "nbformat_minor": 2
}
