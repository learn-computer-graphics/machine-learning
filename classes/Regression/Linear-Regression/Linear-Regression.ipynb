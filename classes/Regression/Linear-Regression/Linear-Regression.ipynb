{
 "cells": [
  {
   "cell_type": "markdown",
   "metadata": {},
   "source": [
    "\n",
    "# Linear Regression\n",
    "\n",
    "> Linear modeling by the most elementary model : simple linear regression where a variable X is explained, modelled by an affine function of another variable y. Mostly used to predict **continuous value outputs**.\n",
    "\n",
    "\n",
    "### First of all, what is linear ?\n",
    "\n",
    "The term “linearity” in algebra refers to a **linear relationship between two or more variables**. If we draw this relationship in a two-dimensional space (between two variables), we get a straight line. In three dimensions it is a plane, and in more than three dimensions, a hyperplane.\n",
    "\n",
    "In this example, we will use Scikit-Learn which is a Python machine learning library."
   ]
  },
  {
   "cell_type": "markdown",
   "metadata": {},
   "source": [
    "### Goal\n",
    "\n",
    "* Y the real random variable to be explained (endogenous, dependent or response variable)\n",
    "* X the expanatory variable or fixed effect (exogenous). \n",
    "* We assume that, on average, E(Y), is an affine function of X. Writing the model implicitly assumes a prior notion of causality in the sense that Y depends on X because the model is not symmetrical.\n",
    "\n",
    "We want to predict a **dependent variable value** (y) based on a **given independent variable** (x). So, this regression technique finds out a linear relationship between x (input) and y(output). By ploting variables, linear regression gives us a straight line that **best fits the data points**."
   ]
  },
  {
   "cell_type": "markdown",
   "metadata": {},
   "source": [
    "### So, what does the linear regression algorithm ?\n",
    "\n",
    "It gives us the most optimal value for the intercept and the slope. Y and X can't be changed since they are fixed data. The only values that we can control are **b and m**.\n",
    "The algorithm check for the line with the least error, that fits the most **data points**."
   ]
  },
  {
   "cell_type": "markdown",
   "metadata": {},
   "source": [
    "___\n",
    "\n",
    "## I - Simple linear regression"
   ]
  },
  {
   "cell_type": "markdown",
   "metadata": {},
   "source": [
    "#### Basic linear equation : \n",
    "$Y = mx + b$ \n",
    "* $b$ : intercept\n",
    "* $m$ : slope"
   ]
  },
  {
   "cell_type": "code",
   "execution_count": 153,
   "metadata": {},
   "outputs": [],
   "source": [
    "## Data from : https://www.kaggle.com/dronio/SolarEnergy?select=SolarPrediction.csv"
   ]
  },
  {
   "cell_type": "code",
   "execution_count": 154,
   "metadata": {},
   "outputs": [],
   "source": [
    "import pandas as pd  \n",
    "import numpy as np  \n",
    "import matplotlib.pyplot as plt  \n",
    "import seaborn as seabornInstance \n",
    "from sklearn.model_selection import train_test_split \n",
    "from sklearn.linear_model import LinearRegression\n",
    "from sklearn import metrics\n"
   ]
  },
  {
   "cell_type": "code",
   "execution_count": 155,
   "metadata": {},
   "outputs": [],
   "source": [
    "dataset = pd.read_csv('/Users/Laurine/Documents/Python Scripts/IMAC2/Learn-computer-graphics/Linear-Regression/SolarPrediction.csv')"
   ]
  },
  {
   "cell_type": "code",
   "execution_count": 156,
   "metadata": {},
   "outputs": [
    {
     "data": {
      "text/html": [
       "<div>\n",
       "<style scoped>\n",
       "    .dataframe tbody tr th:only-of-type {\n",
       "        vertical-align: middle;\n",
       "    }\n",
       "\n",
       "    .dataframe tbody tr th {\n",
       "        vertical-align: top;\n",
       "    }\n",
       "\n",
       "    .dataframe thead th {\n",
       "        text-align: right;\n",
       "    }\n",
       "</style>\n",
       "<table border=\"1\" class=\"dataframe\">\n",
       "  <thead>\n",
       "    <tr style=\"text-align: right;\">\n",
       "      <th></th>\n",
       "      <th>UNIXTime</th>\n",
       "      <th>Radiation</th>\n",
       "      <th>Temperature</th>\n",
       "      <th>Pressure</th>\n",
       "      <th>Humidity</th>\n",
       "      <th>WindDirection(Degrees)</th>\n",
       "      <th>Speed</th>\n",
       "    </tr>\n",
       "  </thead>\n",
       "  <tbody>\n",
       "    <tr>\n",
       "      <th>count</th>\n",
       "      <td>3.268600e+04</td>\n",
       "      <td>32686.000000</td>\n",
       "      <td>32686.000000</td>\n",
       "      <td>32686.000000</td>\n",
       "      <td>32686.000000</td>\n",
       "      <td>32686.000000</td>\n",
       "      <td>32686.000000</td>\n",
       "    </tr>\n",
       "    <tr>\n",
       "      <th>mean</th>\n",
       "      <td>1.478047e+09</td>\n",
       "      <td>207.124697</td>\n",
       "      <td>51.103255</td>\n",
       "      <td>30.422879</td>\n",
       "      <td>75.016307</td>\n",
       "      <td>143.489821</td>\n",
       "      <td>6.243869</td>\n",
       "    </tr>\n",
       "    <tr>\n",
       "      <th>std</th>\n",
       "      <td>3.005037e+06</td>\n",
       "      <td>315.916387</td>\n",
       "      <td>6.201157</td>\n",
       "      <td>0.054673</td>\n",
       "      <td>25.990219</td>\n",
       "      <td>83.167500</td>\n",
       "      <td>3.490474</td>\n",
       "    </tr>\n",
       "    <tr>\n",
       "      <th>min</th>\n",
       "      <td>1.472724e+09</td>\n",
       "      <td>1.110000</td>\n",
       "      <td>34.000000</td>\n",
       "      <td>30.190000</td>\n",
       "      <td>8.000000</td>\n",
       "      <td>0.090000</td>\n",
       "      <td>0.000000</td>\n",
       "    </tr>\n",
       "    <tr>\n",
       "      <th>25%</th>\n",
       "      <td>1.475546e+09</td>\n",
       "      <td>1.230000</td>\n",
       "      <td>46.000000</td>\n",
       "      <td>30.400000</td>\n",
       "      <td>56.000000</td>\n",
       "      <td>82.227500</td>\n",
       "      <td>3.370000</td>\n",
       "    </tr>\n",
       "    <tr>\n",
       "      <th>50%</th>\n",
       "      <td>1.478026e+09</td>\n",
       "      <td>2.660000</td>\n",
       "      <td>50.000000</td>\n",
       "      <td>30.430000</td>\n",
       "      <td>85.000000</td>\n",
       "      <td>147.700000</td>\n",
       "      <td>5.620000</td>\n",
       "    </tr>\n",
       "    <tr>\n",
       "      <th>75%</th>\n",
       "      <td>1.480480e+09</td>\n",
       "      <td>354.235000</td>\n",
       "      <td>55.000000</td>\n",
       "      <td>30.460000</td>\n",
       "      <td>97.000000</td>\n",
       "      <td>179.310000</td>\n",
       "      <td>7.870000</td>\n",
       "    </tr>\n",
       "    <tr>\n",
       "      <th>max</th>\n",
       "      <td>1.483265e+09</td>\n",
       "      <td>1601.260000</td>\n",
       "      <td>71.000000</td>\n",
       "      <td>30.560000</td>\n",
       "      <td>103.000000</td>\n",
       "      <td>359.950000</td>\n",
       "      <td>40.500000</td>\n",
       "    </tr>\n",
       "  </tbody>\n",
       "</table>\n",
       "</div>"
      ],
      "text/plain": [
       "           UNIXTime     Radiation   Temperature      Pressure      Humidity  \\\n",
       "count  3.268600e+04  32686.000000  32686.000000  32686.000000  32686.000000   \n",
       "mean   1.478047e+09    207.124697     51.103255     30.422879     75.016307   \n",
       "std    3.005037e+06    315.916387      6.201157      0.054673     25.990219   \n",
       "min    1.472724e+09      1.110000     34.000000     30.190000      8.000000   \n",
       "25%    1.475546e+09      1.230000     46.000000     30.400000     56.000000   \n",
       "50%    1.478026e+09      2.660000     50.000000     30.430000     85.000000   \n",
       "75%    1.480480e+09    354.235000     55.000000     30.460000     97.000000   \n",
       "max    1.483265e+09   1601.260000     71.000000     30.560000    103.000000   \n",
       "\n",
       "       WindDirection(Degrees)         Speed  \n",
       "count            32686.000000  32686.000000  \n",
       "mean               143.489821      6.243869  \n",
       "std                 83.167500      3.490474  \n",
       "min                  0.090000      0.000000  \n",
       "25%                 82.227500      3.370000  \n",
       "50%                147.700000      5.620000  \n",
       "75%                179.310000      7.870000  \n",
       "max                359.950000     40.500000  "
      ]
     },
     "execution_count": 156,
     "metadata": {},
     "output_type": "execute_result"
    }
   ],
   "source": [
    "## See data\n",
    "dataset.describe()"
   ]
  },
  {
   "cell_type": "code",
   "execution_count": 157,
   "metadata": {},
   "outputs": [
    {
     "data": {
      "image/png": "[encoded data removed]",
      "text/plain": [
       "<Figure size 432x288 with 1 Axes>"
      ]
     },
     "metadata": {
      "needs_background": "light"
     },
     "output_type": "display_data"
    }
   ],
   "source": [
    "##  predict the maximum temperature taking input feature as the radiation.\n",
    "\n",
    "dataset.plot(x='Temperature', y='Radiation', style='o')  \n",
    "plt.title('Temperature vs Radiation')  \n",
    "plt.xlabel('Temperature')  \n",
    "plt.ylabel('Radiation')  \n",
    "plt.show()"
   ]
  },
  {
   "cell_type": "code",
   "execution_count": 158,
   "metadata": {},
   "outputs": [
    {
     "name": "stderr",
     "output_type": "stream",
     "text": [
      "C:\\Users\\Laurine\\Anaconda3\\lib\\site-packages\\scipy\\stats\\stats.py:1713: FutureWarning: Using a non-tuple sequence for multidimensional indexing is deprecated; use `arr[tuple(seq)]` instead of `arr[seq]`. In the future this will be interpreted as an array index, `arr[np.array(seq)]`, which will result either in an error or a different result.\n",
      "  return np.add.reduce(sorted[indexer] * weights, axis=axis) / sumval\n"
     ]
    },
    {
     "data": {
      "text/plain": [
       "<matplotlib.axes._subplots.AxesSubplot at 0x1d0ca426518>"
      ]
     },
     "execution_count": 158,
     "metadata": {},
     "output_type": "execute_result"
    },
    {
     "data": {
      "image/png": "[encoded data removed]",
      "text/plain": [
       "<Figure size 720x720 with 1 Axes>"
      ]
     },
     "metadata": {
      "needs_background": "light"
     },
     "output_type": "display_data"
    }
   ],
   "source": [
    "## We need to check the average temperature : we see that it is around 45 - 50\n",
    "\n",
    "plt.figure(figsize=(10,10))\n",
    "plt.tight_layout()\n",
    "seabornInstance.distplot(dataset['Temperature'])"
   ]
  },
  {
   "cell_type": "code",
   "execution_count": 159,
   "metadata": {},
   "outputs": [],
   "source": [
    "## We need to divide the data into attributes (independant variables) and labels (dependant variables). Labels are values we want to predict\n",
    "## Here, our attribute is \"radiation\" and our label is \"temperature\"\n",
    "\n",
    "X = dataset['Radiation'].values.reshape(-1,1)\n",
    "y = dataset['Temperature'].values.reshape(-1,1)"
   ]
  },
  {
   "cell_type": "code",
   "execution_count": 160,
   "metadata": {},
   "outputs": [],
   "source": [
    "## We need to split the data between the training and the test set. Let say we give 70% of the data to the training set and 30 % to the test set\n",
    "\n",
    "X_train, X_test, y_train, y_test = train_test_split(X, y, test_size=0.3, random_state=0)"
   ]
  },
  {
   "cell_type": "code",
   "execution_count": 161,
   "metadata": {},
   "outputs": [
    {
     "data": {
      "text/plain": [
       "LinearRegression(copy_X=True, fit_intercept=True, n_jobs=None,\n",
       "         normalize=False)"
      ]
     },
     "execution_count": 161,
     "metadata": {},
     "output_type": "execute_result"
    }
   ],
   "source": [
    "## It is time to traing our algorithm ! \n",
    "\n",
    "regressor = LinearRegression()  \n",
    "regressor.fit(X_train, y_train) #training the algorithm"
   ]
  },
  {
   "cell_type": "code",
   "execution_count": 162,
   "metadata": {},
   "outputs": [
    {
     "name": "stdout",
     "output_type": "stream",
     "text": [
      "[48.12878042]\n",
      "[[0.01442639]]\n"
     ]
    }
   ],
   "source": [
    "## We found the best value for the intercept (b) and the slope (m)\n",
    "\n",
    "#To retrieve the intercept:\n",
    "print(regressor.intercept_)\n",
    "#For retrieving the slope:\n",
    "print(regressor.coef_)"
   ]
  },
  {
   "cell_type": "code",
   "execution_count": 163,
   "metadata": {},
   "outputs": [],
   "source": [
    "## Time to make prediction ! (we need to use the test dataset and compare it to actual data)\n",
    "\n",
    "y_pred = regressor.predict(X_test)\n",
    "df = pd.DataFrame({'Actual': y_test.flatten(), 'Predicted': y_pred.flatten()})"
   ]
  },
  {
   "cell_type": "code",
   "execution_count": 164,
   "metadata": {},
   "outputs": [
    {
     "data": {
      "image/png": "[encoded data removed]",
      "text/plain": [
       "<Figure size 1440x1440 with 1 Axes>"
      ]
     },
     "metadata": {
      "needs_background": "light"
     },
     "output_type": "display_data"
    }
   ],
   "source": [
    "df1 = df.head(30)\n",
    "df1.plot(kind='bar',figsize=(20,20))\n",
    "plt.grid(which='major', linestyle='-', linewidth='0.5', color='orange')\n",
    "plt.grid(which='minor', linestyle=':', linewidth='0.5', color='orange')\n",
    "plt.show()"
   ]
  },
  {
   "cell_type": "markdown",
   "metadata": {},
   "source": [
    "Predicted percentage are quite close to actual one, which means that our algorithm is **well trained**."
   ]
  },
  {
   "cell_type": "code",
   "execution_count": 165,
   "metadata": {},
   "outputs": [
    {
     "data": {
      "image/png": "[encoded data removed]",
      "text/plain": [
       "<Figure size 432x288 with 1 Axes>"
      ]
     },
     "metadata": {
      "needs_background": "light"
     },
     "output_type": "display_data"
    }
   ],
   "source": [
    "## Well, now it's time to plot our straight line ! \n",
    "\n",
    "plt.scatter(X_test, y_test,  color='darkblue')\n",
    "plt.plot(X_test, y_pred, color='red', linewidth=2)\n",
    "plt.show()"
   ]
  },
  {
   "cell_type": "code",
   "execution_count": 166,
   "metadata": {},
   "outputs": [
    {
     "name": "stdout",
     "output_type": "stream",
     "text": [
      "Mean Absolute Error: 3.3428145712086974\n",
      "Mean Squared Error: 17.923509301005502\n",
      "Root Mean Squared Error: 4.2336165746327925\n"
     ]
    }
   ],
   "source": [
    "## The final step is to evaluate the performance of the algorithm. \n",
    "\n",
    "print('Mean Absolute Error:', metrics.mean_absolute_error(y_test, y_pred))  \n",
    "print('Mean Squared Error:', metrics.mean_squared_error(y_test, y_pred))  \n",
    "print('Root Mean Squared Error:', np.sqrt(metrics.mean_squared_error(y_test, y_pred)))"
   ]
  },
  {
   "cell_type": "markdown",
   "metadata": {},
   "source": [
    "You can see that the value of root mean squared error is 4.23, which is waaaaay above 10% of the mean value of the temperature (which is 45). \n",
    "This means that our algorithm is **not accurate**, but can still **be used for a first approach**."
   ]
  },
  {
   "cell_type": "markdown",
   "metadata": {},
   "source": [
    "### So what if simple linear regression doesn't work well ?\n",
    "\n",
    "The best way to handle that is to choose the good amount of data and to train it well. Machine learning is all about that : **training your model and realize that the training has not been good**, that the predictions are not very accurate and start over again. Good luck !"
   ]
  },
  {
   "cell_type": "markdown",
   "metadata": {},
   "source": [
    "___\n",
    "\n",
    "## II - Multiple linear regression"
   ]
  },
  {
   "cell_type": "markdown",
   "metadata": {},
   "source": [
    "After performing a simple linear regression, you might wonder how to proceed with more than two variables. Steps for this linear regression is quite the same as above but the evaluation is different. It can be used to **find out which factor has the highest impact of the predicted output and how different variables are related to each other**."
   ]
  },
  {
   "cell_type": "markdown",
   "metadata": {},
   "source": [
    "The **formula** for multiple Linear Regression is : \n",
    "$y_i = \\beta_0 + \\beta _1 x_{i1} + \\beta _2 x_{i2} + ... + \\beta _p x_{ip} + \\epsilon$\n",
    "\n",
    "\\begin{aligned} &\\textbf{where, for } i = n \\textbf{ observations:}\\\\ &y_i=\\text{dependent variable}\\\\ &x_i=\\text{expanatory variables}\\\\ &\\beta_0=\\text{y-intercept (constant term)}\\\\ &\\beta_p=\\text{slope coefficients for each explanatory variable}\\\\ &\\epsilon=\\text{the model's error term (also known as the residuals)}\\\\ \\end{aligned} \n",
    "\n",
    "The multiple regression model is based on the following assumptions:\n",
    "\n",
    "- There is a **linear relationship** between the dependent variables and the independent variables.\n",
    "- The independent variables are **not too highly correlated** with each other.\n",
    "- yi observations are selected **independently and randomly** from the population.\n",
    "- Residuals should be **normally distributed** with a mean of 0 and variance σ.\n"
   ]
  },
  {
   "cell_type": "markdown",
   "metadata": {},
   "source": [
    "Take a deep breath. We won't directly use this formula, since we work with Scikit-Learn. However, it is always useful to **understand** what data you are manipulated, why and how."
   ]
  },
  {
   "cell_type": "code",
   "execution_count": 167,
   "metadata": {},
   "outputs": [],
   "source": [
    "# Now, let's start coding ! \n",
    "# Data from : https://www.kaggle.com/bappekim/air-pollution-in-seoul"
   ]
  },
  {
   "cell_type": "code",
   "execution_count": 168,
   "metadata": {},
   "outputs": [],
   "source": [
    "dataset = pd.read_csv('/Users/Laurine/Documents/Python Scripts/IMAC2/Learn-computer-graphics/Linear-Regression/AirPollutionSeoul/Measurement_summary.csv')"
   ]
  },
  {
   "cell_type": "code",
   "execution_count": 169,
   "metadata": {},
   "outputs": [
    {
     "data": {
      "text/html": [
       "<div>\n",
       "<style scoped>\n",
       "    .dataframe tbody tr th:only-of-type {\n",
       "        vertical-align: middle;\n",
       "    }\n",
       "\n",
       "    .dataframe tbody tr th {\n",
       "        vertical-align: top;\n",
       "    }\n",
       "\n",
       "    .dataframe thead th {\n",
       "        text-align: right;\n",
       "    }\n",
       "</style>\n",
       "<table border=\"1\" class=\"dataframe\">\n",
       "  <thead>\n",
       "    <tr style=\"text-align: right;\">\n",
       "      <th></th>\n",
       "      <th>Station code</th>\n",
       "      <th>Latitude</th>\n",
       "      <th>Longitude</th>\n",
       "      <th>SO2</th>\n",
       "      <th>NO2</th>\n",
       "      <th>O3</th>\n",
       "      <th>CO</th>\n",
       "      <th>PM10</th>\n",
       "      <th>PM2.5</th>\n",
       "    </tr>\n",
       "  </thead>\n",
       "  <tbody>\n",
       "    <tr>\n",
       "      <th>count</th>\n",
       "      <td>647511.000000</td>\n",
       "      <td>647511.000000</td>\n",
       "      <td>647511.000000</td>\n",
       "      <td>647511.000000</td>\n",
       "      <td>647511.000000</td>\n",
       "      <td>647511.000000</td>\n",
       "      <td>647511.000000</td>\n",
       "      <td>647511.000000</td>\n",
       "      <td>647511.000000</td>\n",
       "    </tr>\n",
       "    <tr>\n",
       "      <th>mean</th>\n",
       "      <td>113.000221</td>\n",
       "      <td>37.553484</td>\n",
       "      <td>126.989340</td>\n",
       "      <td>-0.001795</td>\n",
       "      <td>0.022519</td>\n",
       "      <td>0.017979</td>\n",
       "      <td>0.509197</td>\n",
       "      <td>43.708051</td>\n",
       "      <td>25.411995</td>\n",
       "    </tr>\n",
       "    <tr>\n",
       "      <th>std</th>\n",
       "      <td>7.211315</td>\n",
       "      <td>0.053273</td>\n",
       "      <td>0.078790</td>\n",
       "      <td>0.078832</td>\n",
       "      <td>0.115153</td>\n",
       "      <td>0.099308</td>\n",
       "      <td>0.405319</td>\n",
       "      <td>71.137342</td>\n",
       "      <td>43.924595</td>\n",
       "    </tr>\n",
       "    <tr>\n",
       "      <th>min</th>\n",
       "      <td>101.000000</td>\n",
       "      <td>37.452357</td>\n",
       "      <td>126.835151</td>\n",
       "      <td>-1.000000</td>\n",
       "      <td>-1.000000</td>\n",
       "      <td>-1.000000</td>\n",
       "      <td>-1.000000</td>\n",
       "      <td>-1.000000</td>\n",
       "      <td>-1.000000</td>\n",
       "    </tr>\n",
       "    <tr>\n",
       "      <th>25%</th>\n",
       "      <td>107.000000</td>\n",
       "      <td>37.517528</td>\n",
       "      <td>126.927102</td>\n",
       "      <td>0.003000</td>\n",
       "      <td>0.016000</td>\n",
       "      <td>0.008000</td>\n",
       "      <td>0.300000</td>\n",
       "      <td>22.000000</td>\n",
       "      <td>11.000000</td>\n",
       "    </tr>\n",
       "    <tr>\n",
       "      <th>50%</th>\n",
       "      <td>113.000000</td>\n",
       "      <td>37.544962</td>\n",
       "      <td>127.004850</td>\n",
       "      <td>0.004000</td>\n",
       "      <td>0.025000</td>\n",
       "      <td>0.021000</td>\n",
       "      <td>0.500000</td>\n",
       "      <td>35.000000</td>\n",
       "      <td>19.000000</td>\n",
       "    </tr>\n",
       "    <tr>\n",
       "      <th>75%</th>\n",
       "      <td>119.000000</td>\n",
       "      <td>37.584848</td>\n",
       "      <td>127.047470</td>\n",
       "      <td>0.005000</td>\n",
       "      <td>0.038000</td>\n",
       "      <td>0.034000</td>\n",
       "      <td>0.600000</td>\n",
       "      <td>53.000000</td>\n",
       "      <td>31.000000</td>\n",
       "    </tr>\n",
       "    <tr>\n",
       "      <th>max</th>\n",
       "      <td>125.000000</td>\n",
       "      <td>37.658774</td>\n",
       "      <td>127.136792</td>\n",
       "      <td>3.736000</td>\n",
       "      <td>38.445000</td>\n",
       "      <td>33.600000</td>\n",
       "      <td>71.700000</td>\n",
       "      <td>3586.000000</td>\n",
       "      <td>6256.000000</td>\n",
       "    </tr>\n",
       "  </tbody>\n",
       "</table>\n",
       "</div>"
      ],
      "text/plain": [
       "        Station code       Latitude      Longitude            SO2  \\\n",
       "count  647511.000000  647511.000000  647511.000000  647511.000000   \n",
       "mean      113.000221      37.553484     126.989340      -0.001795   \n",
       "std         7.211315       0.053273       0.078790       0.078832   \n",
       "min       101.000000      37.452357     126.835151      -1.000000   \n",
       "25%       107.000000      37.517528     126.927102       0.003000   \n",
       "50%       113.000000      37.544962     127.004850       0.004000   \n",
       "75%       119.000000      37.584848     127.047470       0.005000   \n",
       "max       125.000000      37.658774     127.136792       3.736000   \n",
       "\n",
       "                 NO2             O3             CO           PM10  \\\n",
       "count  647511.000000  647511.000000  647511.000000  647511.000000   \n",
       "mean        0.022519       0.017979       0.509197      43.708051   \n",
       "std         0.115153       0.099308       0.405319      71.137342   \n",
       "min        -1.000000      -1.000000      -1.000000      -1.000000   \n",
       "25%         0.016000       0.008000       0.300000      22.000000   \n",
       "50%         0.025000       0.021000       0.500000      35.000000   \n",
       "75%         0.038000       0.034000       0.600000      53.000000   \n",
       "max        38.445000      33.600000      71.700000    3586.000000   \n",
       "\n",
       "               PM2.5  \n",
       "count  647511.000000  \n",
       "mean       25.411995  \n",
       "std        43.924595  \n",
       "min        -1.000000  \n",
       "25%        11.000000  \n",
       "50%        19.000000  \n",
       "75%        31.000000  \n",
       "max      6256.000000  "
      ]
     },
     "execution_count": 169,
     "metadata": {},
     "output_type": "execute_result"
    }
   ],
   "source": [
    "# Let's see our data\n",
    "dataset.describe()"
   ]
  },
  {
   "cell_type": "code",
   "execution_count": 170,
   "metadata": {},
   "outputs": [],
   "source": [
    "# Same as for the simple linear regression, we need to divide our data into attributes and labels. \n",
    "# X variable contains all the attributes/features and y variable contains labels.\n",
    "# Let's say we want to predict the NO2\n",
    "\n",
    "X = dataset[['Latitude','Longitude', 'SO2','O3', 'CO', 'PM10','PM2.5']].values\n",
    "y = dataset['NO2'].values"
   ]
  },
  {
   "cell_type": "code",
   "execution_count": 171,
   "metadata": {},
   "outputs": [
    {
     "name": "stderr",
     "output_type": "stream",
     "text": [
      "C:\\Users\\Laurine\\Anaconda3\\lib\\site-packages\\scipy\\stats\\stats.py:1713: FutureWarning: Using a non-tuple sequence for multidimensional indexing is deprecated; use `arr[tuple(seq)]` instead of `arr[seq]`. In the future this will be interpreted as an array index, `arr[np.array(seq)]`, which will result either in an error or a different result.\n",
      "  return np.add.reduce(sorted[indexer] * weights, axis=axis) / sumval\n"
     ]
    },
    {
     "data": {
      "text/plain": [
       "<matplotlib.axes._subplots.AxesSubplot at 0x1d0ab384f98>"
      ]
     },
     "execution_count": 171,
     "metadata": {},
     "output_type": "execute_result"
    },
    {
     "data": {
      "image/png": "[encoded data removed]",
      "text/plain": [
       "<Figure size 720x720 with 1 Axes>"
      ]
     },
     "metadata": {
      "needs_background": "light"
     },
     "output_type": "display_data"
    }
   ],
   "source": [
    "# We need to check the average value of NO2\n",
    "\n",
    "plt.figure(figsize=(10,10))\n",
    "plt.xlim((0,1))\n",
    "plt.tight_layout()\n",
    "seabornInstance.distplot(dataset['NO2'])"
   ]
  },
  {
   "cell_type": "markdown",
   "metadata": {},
   "source": [
    "We see that the average of NO2 is something between 0.1 and 0.2"
   ]
  },
  {
   "cell_type": "code",
   "execution_count": 178,
   "metadata": {},
   "outputs": [],
   "source": [
    "# Next, we split 70% of the data to the training set while 30% of the data to test set using below code.\n",
    "\n",
    "X_train, X_test, y_train, y_test = train_test_split(X, y, test_size=0.3, random_state=0)"
   ]
  },
  {
   "cell_type": "code",
   "execution_count": 179,
   "metadata": {},
   "outputs": [
    {
     "data": {
      "text/plain": [
       "LinearRegression(copy_X=True, fit_intercept=True, n_jobs=None,\n",
       "         normalize=False)"
      ]
     },
     "execution_count": 179,
     "metadata": {},
     "output_type": "execute_result"
    }
   ],
   "source": [
    "# Time to train our model ! \n",
    "regressor = LinearRegression()  \n",
    "regressor.fit(X_train, y_train)"
   ]
  },
  {
   "cell_type": "code",
   "execution_count": 180,
   "metadata": {},
   "outputs": [
    {
     "name": "stdout",
     "output_type": "stream",
     "text": [
      "Latitude Longitude SO2 O3 CO PM10 PM2.5\n",
      "[-5.63239684e-02  1.01338366e-02  2.52565384e-01  7.52547726e-01\n",
      "  2.02347868e-02  1.35922634e-05  3.33477562e-05]\n"
     ]
    }
   ],
   "source": [
    "# We want to see what coefficient our regression algorithm has chosen\n",
    "print('Latitude','Longitude', 'SO2','O3', 'CO', 'PM10','PM2.5')\n",
    "print(regressor.coef_)"
   ]
  },
  {
   "cell_type": "markdown",
   "metadata": {},
   "source": [
    "A unit increase in “Latitude“ results in a decrease of : $-5.6 * 10^-2$ units in the NO2."
   ]
  },
  {
   "cell_type": "code",
   "execution_count": 181,
   "metadata": {},
   "outputs": [],
   "source": [
    "# Time to make our prediction : \n",
    "y_pred = regressor.predict(X_test)"
   ]
  },
  {
   "cell_type": "code",
   "execution_count": 182,
   "metadata": {},
   "outputs": [],
   "source": [
    "# We need to check the difference between the actual value and the predicted one \n",
    "df = pd.DataFrame({'Actual': y_test, 'Predicted': y_pred})\n",
    "df1 = df.head(25)"
   ]
  },
  {
   "cell_type": "markdown",
   "metadata": {},
   "source": [
    "df1.plot(kind='bar',figsize=(10,10))\n",
    "plt.grid(which='major', linestyle='-', linewidth='0.5', color='green')\n",
    "plt.grid(which='minor', linestyle=':', linewidth='0.5', color='black')\n",
    "plt.show()"
   ]
  },
  {
   "cell_type": "markdown",
   "metadata": {},
   "source": [
    "Our model is quite bad at predicting but it could be worse. Remember : machine learning, once again, is all about **training and testing your model.**"
   ]
  },
  {
   "cell_type": "code",
   "execution_count": 183,
   "metadata": {},
   "outputs": [
    {
     "data": {
      "image/png": "[encoded data removed]",
      "text/plain": [
       "<Figure size 432x288 with 1 Axes>"
      ]
     },
     "metadata": {
      "needs_background": "light"
     },
     "output_type": "display_data"
    }
   ],
   "source": [
    "## Well, now it's time to plot our lines ! \n",
    "\n",
    "plt.scatter(X_test[:,0], y_test, color='darkblue')\n",
    "plt.plot(X_test[:,0], y_pred, color='red', linewidth=2)\n",
    "plt.show()"
   ]
  },
  {
   "cell_type": "markdown",
   "metadata": {},
   "source": [
    "Well it is kinda chaotic since we have multiple variables but you can see that our lines cover our data well."
   ]
  },
  {
   "cell_type": "code",
   "execution_count": 184,
   "metadata": {},
   "outputs": [
    {
     "name": "stdout",
     "output_type": "stream",
     "text": [
      "Mean Absolute Error: 0.01950224842895457\n",
      "Mean Squared Error: 0.0013053866895743607\n",
      "Root Mean Squared Error: 0.03613013547683375\n"
     ]
    }
   ],
   "source": [
    "# It's time to evaluate our algorithm ! \n",
    "print('Mean Absolute Error:', metrics.mean_absolute_error(y_test, y_pred))  \n",
    "print('Mean Squared Error:', metrics.mean_squared_error(y_test, y_pred))  \n",
    "print('Root Mean Squared Error:', np.sqrt(metrics.mean_squared_error(y_test, y_pred)))"
   ]
  },
  {
   "cell_type": "markdown",
   "metadata": {},
   "source": [
    "Well actually the root mean squared error is 0.04. The mean value is something in between 0.1 and 0.2. It is a bit more than 10% of this range value but it is still very good ! We can make good predictions."
   ]
  },
  {
   "cell_type": "markdown",
   "metadata": {},
   "source": [
    "### So what if multiple linear regression doesn't work well ?\n",
    "\n",
    "Maybe you need more data ? Maybe you thought that your data had a linear relation but it is not the case ? Maybe your training failed at some point ?\n",
    "\n",
    "There is a lot of side-effect with machine learning. Remember : training and testing your algorithm is the best thing to do."
   ]
  },
  {
   "cell_type": "markdown",
   "metadata": {},
   "source": [
    "___\n",
    "\n",
    "## Conclusion\n",
    "\n",
    "Congrats ! You've learn one of the most fundamental machine learning algorithms (thanks to Scikit-learn). "
   ]
  },
  {
   "cell_type": "code",
   "execution_count": null,
   "metadata": {},
   "outputs": [],
   "source": []
  }
 ],
 "metadata": {
  "kernelspec": {
   "display_name": "Python 3",
   "language": "python",
   "name": "python3"
  },
  "language_info": {
   "codemirror_mode": {
    "name": "ipython",
    "version": 3
   },
   "file_extension": ".py",
   "mimetype": "text/x-python",
   "name": "python",
   "nbconvert_exporter": "python",
   "pygments_lexer": "ipython3",
   "version": "3.9.0"
  }
 },
 "nbformat": 4,
 "nbformat_minor": 4
}
