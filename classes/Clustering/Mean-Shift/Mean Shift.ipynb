{
 "cells": [
  {
   "cell_type": "markdown",
   "metadata": {},
   "source": [
    "# Mean Shift clustering\n",
    "\n",
    "> Mean shift is a non-parametric feature-space analysis technique for locating the maxima of a density function, a so-called mode-seeking algorithm.\n",
    "\n",
    "As opposed to K-Means, when using **Mean Shift**, you don’t need to know the number of clusters beforehand. \n",
    "The number of clusters is **determined by the algorithm** with the data.\n",
    "Be aware, mean shift is **expensive : O(n²)**\n",
    "\n",
    "Data points to the clusters are shifted iteratively towards the mode (which is the highest density of data points in the region). \n",
    "Mean-shift algorithm has applications in **image processing** and **computer vision**."
   ]
  },
  {
   "cell_type": "markdown",
   "metadata": {},
   "source": [
    "## Steps to follow\n",
    "\n",
    "### Kernel density\n",
    "\n",
    "You need to represent your data in a mathematical manner which means that your data **must be represented as points**. You need to define a **window** and place it **on your data points**. \n",
    "Next step will be to **compute the mean** for all the points in the window.\n",
    "\n",
    "Mean Shift is build upon **kernel density estimation** (KDE) which is a non-parametric method for estimating the probability density of a random variable. It is a method to estimate the underlying distribution, which is the probability density function for a set of data.\n",
    "\n",
    "It works by **placing a kernel** (the most popular is the Gaussian one) **on each point in the data set**. Adding up all of the individual kernels generates a **probability surface example density function**. Depending on the kernel **bandwidth parameter** used, the resultant density function will vary.\n",
    "\n",
    "Formula of the **Gaussian kernel** : $k(x)$= $e^{-{\\frac {x^{2}}{2\\sigma ^{2}}}}$ where the standard deviation parameter $\\sigma$ works as the bandwidth parameter $h$.\n",
    "\n",
    "Function for determining the **weight of nearby points** for re-estimation of the mean : \n",
    "$K(x_i - x) = e^{-c||x_i - x||^2}$ \n",
    "\n",
    "The **weighted mean of the density in the window** determined by $K$ is\n",
    "\n",
    "$m(x)$= $ \\frac{\\sum _{x_{i}\\in N(x)}K(x_{i}-x)x_{i}}{\\sum _{x_{i}\\in N(x)}K(x_{i}-x)}$\n",
    "\n",
    "\n",
    "where $N(x)$ is the neighborhood of $x$, a set of points for which ${K(x_{i})\\neq 0}$.\n",
    "\n",
    "The difference $m(x)-x$ is called **mean shift**. The mean-shift algorithm now sets $x \\leftarrow m(x)$ and repeats the estimation until $m(x)$ converges.\n"
   ]
  },
  {
   "cell_type": "code",
   "execution_count": 40,
   "metadata": {},
   "outputs": [
    {
     "data": {
      "image/png": "[encoded data removed]",
      "text/plain": [
       "<Figure size 432x288 with 1 Axes>"
      ]
     },
     "metadata": {},
     "output_type": "display_data"
    }
   ],
   "source": [
    "## On this graph, you can see the difference between a normal gaussian distribution and the gaussian KDE\n",
    "\n",
    "from scipy.stats.kde import gaussian_kde\n",
    "from scipy.stats import norm\n",
    "\n",
    "import numpy as np\n",
    "import matplotlib.pyplot as plt\n",
    "\n",
    "mu, sigma = 0, 0.1 # mean and standard deviation\n",
    "s = np.random.normal(mu, sigma, 1000)\n",
    "\n",
    "funct = gaussian_kde(s)\n",
    "\n",
    "fig = plt.figure()\n",
    "ax = fig.add_subplot(1,1,1)\n",
    "\n",
    "count, bins, ignored = plt.hist(s, 50, density=True)\n",
    "\n",
    "len_bins = len(bins)\n",
    "resol = (bins[len_bins-1] - bins[0]) / 100.0\n",
    "x = np.arange(bins[0],bins[len_bins-1],resol)\n",
    "\n",
    "plt.text(0.2, 0.6,'Gaussian KDE',\n",
    "     horizontalalignment='center',\n",
    "     verticalalignment='center',\n",
    "     transform = ax.transAxes, fontsize=12,color='r')\n",
    "\n",
    "plt.text(0.2, 0.7,'Normal Gaussian \\n Distribution',\n",
    "     horizontalalignment='center',\n",
    "     verticalalignment='center',\n",
    "     transform = ax.transAxes, fontsize=12,color='b')\n",
    "\n",
    "plt.plot(x,funct(x), linewidth=2, color='b') \n",
    "plt.plot(bins, norm.pdf(bins, mu,sigma), linewidth=2, color='r')\n",
    "\n",
    "plt.show()"
   ]
  },
  {
   "cell_type": "markdown",
   "metadata": {},
   "source": [
    "### Mean Shift\n",
    "\n",
    "Mean shift use the **KDE** by imagining what the points would do if they all climbed up hill to the **nearest peak** on the KDE surface. It does so by **iteratively shifting each point** until it reaches a peak.\n",
    "\n",
    "The basic method of mean shift is : \n",
    "\n",
    "- Make all datapoints centroids\n",
    "- Take mean of all featuresets within centroid's radius, setting this mean as new centroid.\n",
    "- Repeat step 2 until convergence."
   ]
  },
  {
   "cell_type": "code",
   "execution_count": 41,
   "metadata": {},
   "outputs": [
    {
     "data": {
      "image/png": "[encoded data removed]",
      "text/plain": [
       "<Figure size 432x288 with 1 Axes>"
      ]
     },
     "metadata": {},
     "output_type": "display_data"
    }
   ],
   "source": [
    "## Creation of data\n",
    "\n",
    "import matplotlib.pyplot as plt\n",
    "from matplotlib import style\n",
    "style.use('ggplot')\n",
    "import numpy as np\n",
    "\n",
    "X = np.array([[1, 2],\n",
    "              [1.5, 1.8],\n",
    "              [5, 8 ],\n",
    "              [8, 8],\n",
    "              [1, 0.6],\n",
    "              [9,11],\n",
    "              [8,2],\n",
    "              [10,2],\n",
    "              [9,3],])\n",
    "\n",
    "plt.scatter(X[:,0], X[:,1], s=150)\n",
    "plt.show()\n",
    "\n",
    "colors = 10*[\"g\",\"r\",\"c\",\"b\",\"k\"]"
   ]
  },
  {
   "cell_type": "code",
   "execution_count": 42,
   "metadata": {},
   "outputs": [],
   "source": [
    "class Mean_Shift:\n",
    "    #the radius must be dynamic, otherwise the algorithm is weak\n",
    "    def __init__(self, radius= None, radius_norm_step = 100):\n",
    "        self.radius = radius\n",
    "        self.radius_norm_step = radius_norm_step\n",
    "\n",
    "    def fit(self, data):\n",
    "        #make that radius go in steps, like bandwidths\n",
    "        # if a featureset is in the closest radius, it will have a much higher \"weight\" than one much further away\n",
    "        if self.radius == None:\n",
    "            all_data_centroid = np.average(data, axis=0)\n",
    "            all_data_norm = np.linalg.norm(all_data_centroid)\n",
    "            self.radius = all_data_norm / self.radius_norm_step\n",
    "        \n",
    "        centroids = {}\n",
    "\n",
    "        #Step one\n",
    "        for i in range(len(data)):\n",
    "            centroids[i] = data[i]\n",
    "            \n",
    "        # step two until convergence \n",
    "        # iterating through each centroid, and finding all featuresets in range. \n",
    "        # From there, we are taking the average, and setting that average as the \"new centroid.\" \n",
    "        # Finally, we're creating a uniques variable, which tracks the sorted list of all known centroids. \n",
    "        \n",
    "        #we need to define weights : how many \"radius steps\" a featureset is from the centroid : treating them as index values for the weight list.\n",
    "        weights = [i for i in range(self.radius_norm_step)][::-1]\n",
    "        while True:\n",
    "            new_centroids = []\n",
    "            for i in centroids:\n",
    "                in_bandwidth = []\n",
    "                centroid = centroids[i]\n",
    "                for featureset in data: \n",
    "                    distance = np.linalg.norm(featureset-centroid)\n",
    "                    if distance == 0:\n",
    "                        distance = 0.00000000001\n",
    "                    weight_index = int(distance/self.radius)\n",
    "                    if weight_index > self.radius_norm_step-1:\n",
    "                        weight_index = self.radius_norm_step-1\n",
    "\n",
    "                    to_add = (weights[weight_index]**2)*[featureset]\n",
    "                    in_bandwidth +=to_add\n",
    "                    \n",
    "                new_centroid = np.average(in_bandwidth,axis=0)\n",
    "                new_centroids.append(tuple(new_centroid))\n",
    "\n",
    "            uniques = sorted(list(set(new_centroids)))\n",
    "            \n",
    "            # We need to merge centroids that are close\n",
    "            to_pop = []\n",
    "\n",
    "            for i in uniques:\n",
    "                for j in [i for i in uniques]:\n",
    "                    if i == j:\n",
    "                        pass\n",
    "                    elif np.linalg.norm(np.array(i)-np.array(j)) <= self.radius:\n",
    "                        to_pop.append(j)\n",
    "                        break\n",
    "\n",
    "            for i in to_pop:\n",
    "                try:\n",
    "                    uniques.remove(i)\n",
    "                except:\n",
    "                    pass\n",
    "                \n",
    "            prev_centroids = dict(centroids)\n",
    "\n",
    "            centroids = {}\n",
    "            for i in range(len(uniques)):\n",
    "                centroids[i] = np.array(uniques[i])\n",
    "\n",
    "            optimized = True\n",
    "\n",
    "            for i in centroids:\n",
    "                if not np.array_equal(centroids[i], prev_centroids[i]):\n",
    "                    optimized = False\n",
    "                if not optimized:\n",
    "                    break\n",
    "                \n",
    "            if optimized:\n",
    "                break\n",
    "\n",
    "        self.centroids = centroids\n",
    "        \n",
    "        self.classifications = {}\n",
    "\n",
    "        for i in range(len(self.centroids)):\n",
    "            self.classifications[i] = []\n",
    "            \n",
    "        for featureset in data:\n",
    "            #compare distance to either centroid\n",
    "            distances = [np.linalg.norm(featureset-self.centroids[centroid]) for centroid in self.centroids]\n",
    "            #print(distances)\n",
    "            classification = (distances.index(min(distances)))\n",
    "\n",
    "            # featureset that belongs to that cluster\n",
    "            self.classifications[classification].append(featureset)"
   ]
  },
  {
   "cell_type": "code",
   "execution_count": 45,
   "metadata": {},
   "outputs": [],
   "source": [
    "# We can now predict our data\n",
    "def predict(self,data):\n",
    "    #compare distance to either centroid\n",
    "    distances = [np.linalg.norm(data-self.centroids[centroid]) for centroid in self.centroids]\n",
    "    classification = (distances.index(min(distances)))\n",
    "    return classification"
   ]
  },
  {
   "cell_type": "code",
   "execution_count": 46,
   "metadata": {},
   "outputs": [
    {
     "name": "stdout",
     "output_type": "stream",
     "text": [
      "{0: array([1.18211438, 1.50109686]), 1: array([7.45598917, 8.44263203]), 2: array([8.97302521, 2.50551952])}\n"
     ]
    },
    {
     "data": {
      "image/png": "[encoded data removed]",
      "text/plain": [
       "<Figure size 432x288 with 1 Axes>"
      ]
     },
     "metadata": {},
     "output_type": "display_data"
    }
   ],
   "source": [
    "clf = Mean_Shift()\n",
    "clf.fit(X)\n",
    "\n",
    "centroids = clf.centroids\n",
    "print(centroids)\n",
    "\n",
    "colors = 10*['r','g','b','c','k','y']\n",
    "\n",
    "# let's classify our dataset\n",
    "for classification in clf.classifications:\n",
    "    color = colors[classification]\n",
    "    for featureset in clf.classifications[classification]:\n",
    "        plt.scatter(featureset[0],featureset[1], marker = \"x\", color=color, s=150, linewidths = 5, zorder = 10)\n",
    "\n",
    "for c in centroids:\n",
    "    plt.scatter(centroids[c][0],centroids[c][1], color='k', marker = \"*\", s=150, linewidths = 5)\n",
    "\n",
    "plt.show()"
   ]
  },
  {
   "cell_type": "markdown",
   "metadata": {},
   "source": [
    "We did the implementation of Mean Shift on our own. As Python is well done, you can always use scikit-learn library and the method **sklearn.cluster.MeanShift** that you'll find here : https://scikit-learn.org/stable/modules/generated/sklearn.cluster.MeanShift.html\n",
    "\n",
    "It is always way better to use things that are already implemented because people who did this surely code better than us (and it is actually more optimized)."
   ]
  },
  {
   "cell_type": "markdown",
   "metadata": {},
   "source": [
    "## Conclusion\n",
    "\n",
    "Mean Shift algorithm is model-free, it doesn’t assume any prior shape like spherical, elliptical on data clusters. Unfortunatly, it doesn’t scale well with dimension of feature space and the output depends on window size. However, it just needs a single parameter (**window size h**) where h has a **physical meaning**, which can be a better choice than K-Means.\n",
    "\n",
    "Mean Shift can also be used for tracking and smoothing."
   ]
  }
 ],
 "metadata": {
  "kernelspec": {
   "display_name": "Python 3",
   "language": "python",
   "name": "python3"
  },
  "language_info": {
   "codemirror_mode": {
    "name": "ipython",
    "version": 3
   },
   "file_extension": ".py",
   "mimetype": "text/x-python",
   "name": "python",
   "nbconvert_exporter": "python",
   "pygments_lexer": "ipython3",
   "version": "3.7.1"
  }
 },
 "nbformat": 4,
 "nbformat_minor": 2
}
